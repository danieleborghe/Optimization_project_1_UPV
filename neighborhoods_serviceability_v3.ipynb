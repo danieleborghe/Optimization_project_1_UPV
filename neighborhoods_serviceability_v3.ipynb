{
 "cells": [
  {
   "cell_type": "markdown",
   "metadata": {},
   "source": [
    "## Preliminary operations"
   ]
  },
  {
   "cell_type": "code",
   "execution_count": 6,
   "metadata": {},
   "outputs": [],
   "source": [
    "# import main libraries\n",
    "import json\n",
    "import requests\n",
    "import pandas as pd\n",
    "import numpy as np"
   ]
  },
  {
   "cell_type": "code",
   "execution_count": 7,
   "metadata": {},
   "outputs": [],
   "source": [
    "# import all datasets\n",
    "response = requests.get(\"https://gitlab.com/drvicsana/cop-proyecto-2023/-/raw/main/project_data/incidentes2019.json\")\n",
    "incidents_db = json.loads(response.text)\n",
    "\n",
    "response = requests.get(\"https://gitlab.com/drvicsana/cop-proyecto-2023/-/raw/main/project_data/distancias_estaciones_barrios.json\")\n",
    "distances_stations_ntas_db = json.loads(response.text)\n",
    "\n",
    "response = requests.get(\"https://gitlab.com/drvicsana/cop-proyecto-2023/-/raw/main/project_data/distancias_estaciones.json\")\n",
    "distances_stations_db = json.loads(response.text)\n",
    "\n",
    "response = requests.get(\"https://gitlab.com/drvicsana/cop-proyecto-2023/-/raw/main/project_data/barrios.json\")\n",
    "ntas_db = json.loads(response.text)\n",
    "\n",
    "response = requests.get(\"https://gitlab.com/drvicsana/cop-proyecto-2023/-/raw/main/project_data/estaciones.json\")\n",
    "stations_db = json.loads(response.text)"
   ]
  },
  {
   "cell_type": "code",
   "execution_count": 8,
   "metadata": {},
   "outputs": [],
   "source": [
    "# get a dataframe with the distances between stations and neighborhoods (ntas)\n",
    "df_distance_stations_ntas = pd.read_csv(\"dataset/distance_stations_neighborhoods.csv\", index_col=\"Unnamed: 0\")\n",
    "# get a dataframe with the distances between stations\n",
    "df_distance_stations = pd.DataFrame(distances_stations_db)"
   ]
  },
  {
   "cell_type": "code",
   "execution_count": 9,
   "metadata": {},
   "outputs": [],
   "source": [
    "# define a list with vehicle types\n",
    "vehicle_types = [\"engine\", \"ladder\", \"rescue\", \"squad\", \"hazardous\"]\n",
    "# define vehicle type quantities\n",
    "vehicle_quantities = [197, 143, 5, 8, 1]"
   ]
  },
  {
   "cell_type": "code",
   "execution_count": 10,
   "metadata": {},
   "outputs": [],
   "source": [
    "# create a dictionary to store the neighborhoods serviceability dataframes\n",
    "dfs_nta_serviceability = {}\n",
    "# create a dictionary to store the maximum servicability distance for each type of vehicle\n",
    "serviceability_distances ={}\n",
    "\n",
    "# iterate all vehicle types\n",
    "for vehicle_type in vehicle_types:\n",
    "    # create datframes of the same shape of the nta-station distances \n",
    "    dfs_nta_serviceability[vehicle_type] = df_distance_stations_ntas.copy()\n",
    "    # set all the values in the serviceability dataframe to an initial value equal to True\n",
    "    dfs_nta_serviceability[vehicle_type].loc[:] = True\n",
    "\n",
    "    # set the initial serviceability distance to an initial value equal to 0\n",
    "    serviceability_distances[vehicle_type] = 0"
   ]
  },
  {
   "cell_type": "markdown",
   "metadata": {},
   "source": [
    "## Function *get_coverage_overlaps*"
   ]
  },
  {
   "cell_type": "code",
   "execution_count": 11,
   "metadata": {},
   "outputs": [],
   "source": [
    "# define a function to detect the stations with a coverage overlap\n",
    "def get_coverage_overlaps(df):\n",
    "    # define an internal function to check if there is a coverage overlap between two stations\n",
    "    def check_coverage_overlap(coverage_station_1, station_2):\n",
    "        # get the coverage of the second station\n",
    "        coverage_station_2 = station_2[station_2].index.tolist()\n",
    "        # chech if there is a complete overlap between the stations'coverage\n",
    "        is_coverage_included = all(nta in coverage_station_1 for nta in coverage_station_2)\n",
    "        \n",
    "        # return the result\n",
    "        return is_coverage_included\n",
    "\n",
    "    # transpose dataframe for checking the stations as rows\n",
    "    df = df.T\n",
    "\n",
    "    # create a results list\n",
    "    results = [False] * len(df)\n",
    "    # convert the list to a series\n",
    "    results_series = pd.Series(results, index=df.index)\n",
    "\n",
    "    # iter each station of the dataframe\n",
    "    for station_name_1, station_1 in df.iterrows():\n",
    "        # check if the station wasn't already checked\n",
    "        if results_series[station_name_1] == False:\n",
    "            coverage_station_1 = station_1[station_1].index.tolist()\n",
    "            # iter each station of the dataframe\n",
    "            for station_name_2, station_2 in df.iterrows():\n",
    "                # chech if the second station is different from first one, and check if it wasn't already checked\n",
    "                if (station_name_2 != station_name_1) and (results_series[station_name_2] == False):\n",
    "                    # check the overlap between the coverage of the two stations\n",
    "                    is_overlap = check_coverage_overlap(coverage_station_1, station_2)\n",
    "                    # store the result\n",
    "                    results_series[station_name_2] = is_overlap \n",
    "    \n",
    "    # return the series with the results\n",
    "    return results_series"
   ]
  },
  {
   "cell_type": "markdown",
   "metadata": {},
   "source": [
    "## Function *set_serviceability*"
   ]
  },
  {
   "cell_type": "code",
   "execution_count": 12,
   "metadata": {},
   "outputs": [],
   "source": [
    "# define a function to set the serviceability of each nta from each station\n",
    "def set_serviceability(distance_threshold, df_nta_serviceability):\n",
    "    # interate nta-station distances dataframe\n",
    "    for (nta, distances) in df_distance_stations_ntas.iterrows():\n",
    "        # iterate stations' distances from the neighborhood\n",
    "        for station, distance_st_nta in distances.items():\n",
    "            # check if the distance between the nta and the station is greater then the threshold\n",
    "            if distance_st_nta > distance_threshold:\n",
    "                # set the neighborhood as unservable by that station\n",
    "                df_nta_serviceability.loc[nta, station] = False\n",
    "    \n",
    "    # return the serviceability table ready\n",
    "    return df_nta_serviceability"
   ]
  },
  {
   "cell_type": "markdown",
   "metadata": {},
   "source": [
    "## Set the serviceability for each vehicle type"
   ]
  },
  {
   "cell_type": "code",
   "execution_count": 13,
   "metadata": {},
   "outputs": [
    {
     "name": "stdout",
     "output_type": "stream",
     "text": [
      "engine: 754\n",
      "ladder: 754\n",
      "rescue: 2660\n",
      "squad: 2530\n"
     ]
    }
   ],
   "source": [
    "# set some thresholds upper limits (JUST FOR HAVING A FASTER CALCULATION)\n",
    "threshold_upper_limits = [755, 755, 2661, 2531]\n",
    "#########################################################################\n",
    "\n",
    "# iterate all vehicle types and relative quantities\n",
    "for vehicle_type, vehicle_quantity, serviceability_threshold in zip(vehicle_types[:-1], vehicle_quantities[:-1], threshold_upper_limits):\n",
    "    # set an initial value for the serviceability areas counter\n",
    "    serviceability_areas = 0\n",
    "    # make a copy of the original serviceability dataframe (just for the first while check)\n",
    "    ntas_serviceability = dfs_nta_serviceability[vehicle_type].copy()\n",
    "\n",
    "    # iterate until:\n",
    "    # - a neighborhood cannot be served by any station              OR\n",
    "    # - a station cannot serve any neighborhood                     OR\n",
    "    # - the serviceability areas are less then the vehicle quantity\n",
    "    while ntas_serviceability.any(axis=1).all() and ntas_serviceability.any(axis=0).all() and serviceability_areas <= vehicle_quantity:\n",
    "        # low the serviceability distance threshold\n",
    "        serviceability_threshold -= 1\n",
    "\n",
    "        # get a copy of the original dataframe\n",
    "        #ntas_serviceability = dfs_nta_serviceability[vehicle_type].copy()\n",
    "        # set the serviceability based on the threshold\n",
    "        ntas_serviceability = set_serviceability(serviceability_threshold, ntas_serviceability).copy()\n",
    "\n",
    "        # get the overlaps series\n",
    "        overlaps = get_coverage_overlaps(ntas_serviceability)\n",
    "\n",
    "        # count the non-overlapping areas\n",
    "        serviceability_areas = (~overlaps).sum()\n",
    "\n",
    "    # get a new copy of the original dataframe\n",
    "    ntas_serviceability = dfs_nta_serviceability[vehicle_type].copy()\n",
    "    # set the serviceability based on the last valid threshold (actual + 1)\n",
    "    ntas_serviceability = set_serviceability(serviceability_threshold + 1, ntas_serviceability).copy()\n",
    "\n",
    "    # store the serviceability table\n",
    "    dfs_nta_serviceability[vehicle_type] = ntas_serviceability\n",
    "    # store the serviceability distance\n",
    "    serviceability_distances[vehicle_type] = serviceability_threshold + 1\n",
    "    # print the serviceability distance\n",
    "    print(vehicle_type + \": \" + str(serviceability_threshold + 1))\n",
    "    "
   ]
  },
  {
   "cell_type": "code",
   "execution_count": 14,
   "metadata": {},
   "outputs": [],
   "source": [
    "# save the serviceability tables\n",
    "for df in dfs_nta_serviceability:\n",
    "    dfs_nta_serviceability[df].to_csv(\"dataset/serviceability/\" + df + \"_ntas_serviceability.csv\")"
   ]
  }
 ],
 "metadata": {
  "kernelspec": {
   "display_name": "base",
   "language": "python",
   "name": "python3"
  },
  "language_info": {
   "codemirror_mode": {
    "name": "ipython",
    "version": 3
   },
   "file_extension": ".py",
   "mimetype": "text/x-python",
   "name": "python",
   "nbconvert_exporter": "python",
   "pygments_lexer": "ipython3",
   "version": "3.11.5"
  }
 },
 "nbformat": 4,
 "nbformat_minor": 2
}
