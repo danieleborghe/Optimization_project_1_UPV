{
 "cells": [
  {
   "cell_type": "markdown",
   "id": "e98fd380",
   "metadata": {},
   "source": [
    "<div align=\"left\">\n",
    "<img src=\"https://licensebuttons.net/l/by-nc-sa/3.0/88x31.png\" align=\"right\">\n",
    "<p align=\"left\"><b>Authors: Mikel Baraza Vidal, Daniele Borghesi, Eva Cantín Larumbe, Francesco Pio Capoccello, Eva Teisberg</b></p>\n",
    "</div>\n",
    "<img align=\"left\" width=\"30%\" src=\"https://www.inf.upv.es/www/etsinf/wp-content/uploads/2017/02/ETSInf_PRINCIPAL_V-horizontal.png\"/> <img width=\"30%\" src=\"https://www.upv.es/perfiles/pas-pdi/imagenes/marca_UPV_principal_negro150.png\" align=\"right\"/>\n"
   ]
  },
  {
   "cell_type": "code",
   "execution_count": null,
   "id": "5057a4be",
   "metadata": {},
   "outputs": [],
   "source": [
    "#import folium\n",
    "import requests\n",
    "import json\n",
    "#import geopandas as geo\n",
    "from io import StringIO\n",
    "import io\n",
    "import pandas as pd\n",
    "#------------------------------------\n",
    "\n",
    "from ortools.linear_solver import pywraplp\n",
    "from numpy import average, std\n",
    "from statistics import *\n",
    "import folium\n",
    "import numpy as np"
   ]
  },
  {
   "cell_type": "markdown",
   "id": "598dd5c6",
   "metadata": {},
   "source": [
    "###  Datasets"
   ]
  },
  {
   "cell_type": "code",
   "execution_count": null,
   "id": "df851ec5",
   "metadata": {},
   "outputs": [],
   "source": [
    "vehicle_types = [\"engine\", \"ladder\", \"rescue\", \"squad\", \"hazardous\"]"
   ]
  },
  {
   "cell_type": "code",
   "execution_count": null,
   "id": "913cbdc2",
   "metadata": {},
   "outputs": [],
   "source": [
    "serviceability_distances = {\n",
    "    \"engine\": 800.24,\n",
    "    \"ladder\": 800.24,\n",
    "    \"rescue\": 2675.74,\n",
    "    \"squad\": 2339.26,\n",
    "    \"hazardous\": 4537.84,\n",
    "}"
   ]
  },
  {
   "cell_type": "code",
   "execution_count": null,
   "id": "8fef3754",
   "metadata": {},
   "outputs": [],
   "source": [
    "response = requests.get(\"https://gitlab.com/drvicsana/cop-proyecto-2023/-/raw/main/project_data/distancias_estaciones.json\")\n",
    "distances_stations_db = json.loads(response.text)\n",
    "\n",
    "df_distances_stations = pd.DataFrame(distances_stations_db)\n",
    "df_distances_stations =  pd.concat([df_distances_stations.iloc[-1:], df_distances_stations.iloc[:-1]], axis=0)\n",
    "df_distances_stations.fillna(0, inplace=True)\n",
    "df_distances_stations"
   ]
  },
  {
   "cell_type": "code",
   "execution_count": null,
   "id": "facb8520",
   "metadata": {},
   "outputs": [],
   "source": [
    "distance = pd.read_csv(\"dataset/distance_stations_neighborhoods.csv\", index_col=0)\n",
    "neighborhood = pd.read_csv(\"dataset/neighborhoods_info_standardized.csv\")\n",
    "serviceability = {}\n",
    "\n",
    "for vehicle_type in vehicle_types:\n",
    "    serviceability[vehicle_type] = pd.read_csv(\"dataset/serviceability/\" + vehicle_type +\"_ntas_serviceability.csv\", index_col=0)"
   ]
  },
  {
   "cell_type": "markdown",
   "id": "6062f0b7",
   "metadata": {},
   "source": [
    "### Creating an instance of the Solver class"
   ]
  },
  {
   "cell_type": "code",
   "execution_count": null,
   "id": "745c774f",
   "metadata": {},
   "outputs": [],
   "source": [
    "solver = pywraplp.Solver.CreateSolver(\"SAT\")"
   ]
  },
  {
   "cell_type": "markdown",
   "id": "a8a56bbc",
   "metadata": {},
   "source": [
    "### Creating decision variables"
   ]
  },
  {
   "cell_type": "markdown",
   "id": "1e32b03a",
   "metadata": {},
   "source": [
    "with:\n",
    "\n",
    "$X_{i, j, k}: $  number of vehicles of type ${i}$ deployed in station ${j}$ during shift ${k}$\n",
    "\n",
    "$X_{i, j, k} \\geq 0$, $X_{i, j, k} \\in \\mathbb{Z}$\n",
    "\n",
    "$ i \\in I, j \\in J, k \\in K$\n",
    "\n",
    "_________________\n",
    "\n",
    "$Y_{i, a, b}:$  number of vehicles of type ${i}$ moved from station ${a}$ to station ${b}$ at shift change\n",
    "\n",
    "$Y_{i, a, b} \\geq 0$, $Y_{i, a, b} \\in \\mathbb{Z}$\n",
    "\n",
    "$ i \\in I, a \\in J, b \\in J$\n",
    "\n",
    "_____\n",
    "\n",
    "$T_{i, j, k}: 1$ if a vehicle of type ${i}$ is deployed in station ${j}$ during shift ${k}$, $0$ otherwise\n",
    "\n",
    "$T_{i, j, k} \\geq 0$, $T_{i, j, k} \\in  \\{0,1\\}$\n",
    "\n",
    "$ i \\in I, j \\in J, k \\in K$\n",
    "\n",
    "____\n",
    "\n",
    "\n",
    "$Q_{j, k}: 1$ if there are more than two vehicles in station $j$ during shift $k$, $0$ otherwise\n",
    "\n",
    "$Q_{j, k} \\geq 0$, $Q_{j, k} \\in \\{0,1\\}$\n",
    "\n",
    "$ j \\in J, k \\in K$\n",
    "\n",
    "____\n",
    "\n",
    "- type of vehicles$: i=1\\dots 5$\n",
    "\n",
    "- stations: $j=1\\dots 219$\n",
    "\n",
    "- shifts: $k=1\\dots 2$\n",
    "\n",
    "- neighborhoods: $n=1 \\dots 195$\n"
   ]
  },
  {
   "cell_type": "code",
   "execution_count": null,
   "id": "18d53c2d",
   "metadata": {},
   "outputs": [],
   "source": [
    "response = requests.get(\"https://gitlab.com/drvicsana/cop-proyecto-2023/-/raw/main/project_data/incidentes2019.json\")\n",
    "incidents = json.loads(response.text)\n",
    "\n",
    "I = [\"engine\", \"ladder\", \"rescue\", \"squad\", \"hazardous\"]"
   ]
  },
  {
   "cell_type": "code",
   "execution_count": null,
   "id": "0b37578b",
   "metadata": {},
   "outputs": [],
   "source": [
    "N = list(neighborhood.nta)\n",
    "J = list(distance.columns)\n",
    "K = [1,2]"
   ]
  },
  {
   "cell_type": "code",
   "execution_count": null,
   "id": "0038e46e",
   "metadata": {},
   "outputs": [],
   "source": [
    "X = {}\n",
    "for i in I:\n",
    "    for j in J:\n",
    "        for k in K:\n",
    "            v = solver.IntVar(0, solver.infinity(), \"Number of vehicles of type \" + str(i) + \" deployed at station \"+ str(j)+ \" during shift \" + str(k))\n",
    "            X[(i,j,k)] = v"
   ]
  },
  {
   "cell_type": "code",
   "execution_count": null,
   "id": "ae40d52b",
   "metadata": {},
   "outputs": [],
   "source": [
    "Y = {}\n",
    "for i in I:\n",
    "    for a in J:\n",
    "        for b in J:\n",
    "            v = solver.IntVar(0, solver.infinity(), \"Number of vehicles of type \" + str(i) + \" moved from station \"+ str(a)+ \" to station \" + str(b))\n",
    "            Y[(i,a,b)] = v"
   ]
  },
  {
   "cell_type": "code",
   "execution_count": null,
   "id": "13f46831",
   "metadata": {},
   "outputs": [],
   "source": [
    "T = {}\n",
    "for i in I:\n",
    "    for j in J:\n",
    "        for k in K:\n",
    "            v = solver.BoolVar(\"if a vehicle of type\" + str(i)  + \" is deployed in station \" + str(j) + \" during shift \" + str(k))\n",
    "            T[(i,j,k)] = v"
   ]
  },
  {
   "cell_type": "code",
   "execution_count": null,
   "id": "6a5afa46",
   "metadata": {},
   "outputs": [],
   "source": [
    "Q = {}\n",
    "for j in J:\n",
    "    for k in K:\n",
    "        v = solver.BoolVar(\"if there are two or more vehicles in station \" + str(j) + \" during shift \" + str(k))\n",
    "        Q[(j,k)] = v"
   ]
  },
  {
   "cell_type": "markdown",
   "id": "ece64324",
   "metadata": {},
   "source": [
    "## Creting constraints"
   ]
  },
  {
   "cell_type": "markdown",
   "id": "4e2c95a6",
   "metadata": {},
   "source": [
    "### 1. Station capacity\n",
    "\n",
    "\\begin{equation}\n",
    "    \\sum_{i \\in I}^{}X_{i, j, k} \\leq c_{j}, \\forall j \\in J, k \\in K\n",
    "    \\label{station_capacity}\n",
    "\\end{equation}"
   ]
  },
  {
   "cell_type": "code",
   "execution_count": null,
   "id": "e7adaf0d",
   "metadata": {},
   "outputs": [],
   "source": [
    "response2 = requests.get(\"https://gitlab.com/drvicsana/cop-proyecto-2023/-/raw/main/located_firehouses.json\")\n",
    "stations = json.loads(response2.text)"
   ]
  },
  {
   "cell_type": "code",
   "execution_count": null,
   "id": "de0e7204",
   "metadata": {},
   "outputs": [],
   "source": [
    "#capacities = [(feature['properties']['capacity'], feature['properties']['FacilityAddress']) for feature in stations['features']]\n",
    "\n",
    "capacities = {}\n",
    "\n",
    "for station in stations[\"features\"]:\n",
    "    station_address = station[\"properties\"][\"FacilityAddress\"]\n",
    "    capacities[station_address] = station[\"properties\"][\"capacity\"]"
   ]
  },
  {
   "cell_type": "code",
   "execution_count": null,
   "id": "02e4c902",
   "metadata": {},
   "outputs": [],
   "source": [
    "station_capacity_constraints = []\n",
    "\n",
    "for j in J:\n",
    "    capacity = capacities[j]\n",
    "    for k in K:\n",
    "        c = solver.Constraint(-solver.infinity(), capacity)\n",
    "    \n",
    "        for i in I:\n",
    "            v = X[(i, j, k)]\n",
    "            c.SetCoefficient(v, 1)\n",
    "\n",
    "        station_capacity_constraints.append(c)\n",
    "\n",
    "assert len(station_capacity_constraints) == 438, \"The number of constraints (\" + str(len(station_capacity_constraints)) + \") is NOT correct\""
   ]
  },
  {
   "cell_type": "markdown",
   "id": "443f9a80",
   "metadata": {},
   "source": [
    "### 2. Vehicles availability\n",
    "\n",
    "\\begin{equation}\n",
    "    \\sum_{j \\in J}^{}X_{i, j, k} = v_{i}, \\forall i \\in I, k \\in K\n",
    "    \\label{vehicle_availability}\n",
    "\\end{equation}"
   ]
  },
  {
   "cell_type": "code",
   "execution_count": null,
   "id": "4ff65ae3",
   "metadata": {},
   "outputs": [],
   "source": [
    "availabilities = {'engine': 197, 'ladder': 143, 'hazardous': 1, 'squad': 8, 'rescue':5}"
   ]
  },
  {
   "cell_type": "code",
   "execution_count": null,
   "id": "6bef8548",
   "metadata": {},
   "outputs": [],
   "source": [
    "vehicles_availability_constraints = []\n",
    "\n",
    "for i in I:\n",
    "    availability = availabilities[i]\n",
    "\n",
    "    for k in K:\n",
    "        c = solver.Constraint(availability, availability)\n",
    "\n",
    "        for j in J:\n",
    "            v = X[(i, j, k)]\n",
    "            c.SetCoefficient(v, 1)\n",
    "            \n",
    "        vehicles_availability_constraints.append(c)\n",
    "\n",
    "assert len(vehicles_availability_constraints) == 10, \"The number of constraints (\" + str(len(vehicles_availability_constraints)) + \") is NOT correct\""
   ]
  },
  {
   "cell_type": "markdown",
   "id": "e5e49ab1",
   "metadata": {},
   "source": [
    "### 3. At least one vehicle\n",
    "\n",
    "\\begin{equation}\n",
    "    \\sum_{i \\in I}^{}X_{i, j, k} \\geq 1, \\forall j \\in J, k \\in K\n",
    "    \\label{at_least_one_vehicle}\n",
    "\\end{equation}"
   ]
  },
  {
   "cell_type": "code",
   "execution_count": null,
   "id": "e7e2c65e",
   "metadata": {},
   "outputs": [],
   "source": [
    "atleast_one_vehicle_constraints = []\n",
    "\n",
    "for j in J:\n",
    "    for k in K:\n",
    "        c = solver.Constraint(1, solver.infinity())\n",
    "    \n",
    "        for i in I:\n",
    "            v = X[(i, j, k)]\n",
    "            c.SetCoefficient(v, 1)\n",
    "        atleast_one_vehicle_constraints.append(c)\n",
    "\n",
    "assert len(atleast_one_vehicle_constraints) == 438, \"The number of constraints (\" + str(len(atleast_one_vehicle_constraints)) + \") is NOT correct\""
   ]
  },
  {
   "cell_type": "markdown",
   "id": "042a1185",
   "metadata": {},
   "source": [
    "### 4. Scarce resources coverage\n",
    "\n",
    "\\begin{equation}\n",
    "    \\sum_{j \\in J}^{}s_{i, j, n}X_{i, j, k} \\geq  1, \\forall n \\in N, k \\in K, i \\in \\left \\{ 3, 4 \\right \\}\n",
    "    \\label{scarce_resources}\n",
    "\\end{equation}"
   ]
  },
  {
   "cell_type": "code",
   "execution_count": null,
   "id": "68837e1a",
   "metadata": {},
   "outputs": [],
   "source": [
    "scarce_resources_availability = []\n",
    "\n",
    "for k in K:\n",
    "    for n in N:\n",
    "        for i in [\"rescue\", \"squad\"]:\n",
    "            c = solver.Constraint(1, solver.infinity())\n",
    "            \n",
    "            for j in J:\n",
    "                s = 1 if serviceability[i].loc[n, j] == True else 0\n",
    "                v = X[(i, j, k)]\n",
    "                c.SetCoefficient(v, s)\n",
    "\n",
    "            scarce_resources_availability.append(c)\n",
    "\n",
    "assert len(scarce_resources_availability) == 780, \"The number of constraints (\" + str(len(scarce_resources_availability)) + \") is NOT correct\""
   ]
  },
  {
   "cell_type": "markdown",
   "id": "060f17e9",
   "metadata": {},
   "source": [
    "### 5. Area resources concentration\n",
    "\n",
    "\\begin{equation}\n",
    "    \\theta = \\sum_{j \\in J}^{}s_{i, j, n}\n",
    "\\end{equation}\n",
    "\n",
    "\\begin{equation}\n",
    "    \\frac{\\theta}{2}\\leq \\sum_{j \\in J}^{}s_{i, j, n}X_{i, j, k} \\leq \\theta, \\forall n \\in N, k \\in K, i \\in \\left \\{ 1, 2 \\right \\}\n",
    "    \\label{engine_ladder_concentration_area}\n",
    "\\end{equation}\n",
    "\n",
    "\\begin{equation}\n",
    "    r_{a, b} + \\frac{l_{i}}{2} \\geq \\frac{l_{i}}{2} \\left (T_{i, a, k} + T_{i, b, k} \\right ), \\forall k \\in K, i \\in \\left \\{ 3, 4 \\right \\}\n",
    "    \\label{rescue_squad_concentration_area}\n",
    "\\end{equation}"
   ]
  },
  {
   "cell_type": "code",
   "execution_count": null,
   "id": "d022f263",
   "metadata": {},
   "outputs": [],
   "source": [
    "area_resources_concentration_constraints = []\n",
    "\n",
    "for k in K:\n",
    "    for n in N:\n",
    "        for i in [\"engine\", \"ladder\"]:\n",
    "            s_max = 0\n",
    "            \n",
    "            for j in J:\n",
    "                s_max += 1 if serviceability[i].loc[n, j] == True else 0\n",
    "            \n",
    "            c = solver.Constraint(s_max / 2, s_max)\n",
    "            \n",
    "            for j in J:\n",
    "                s = 1 if serviceability[i].loc[n, j] == True else 0\n",
    "                v = X[(i, j, k)]\n",
    "                c.SetCoefficient(v, s)\n",
    "\n",
    "            area_resources_concentration_constraints.append(c)\n",
    "        \n",
    "assert len(area_resources_concentration_constraints) == 780, \"The number of constraints (\" + str(len(area_resources_concentration_constraints)) + \") is NOT correct\""
   ]
  },
  {
   "cell_type": "code",
   "execution_count": null,
   "id": "f2dccbb2",
   "metadata": {},
   "outputs": [],
   "source": [
    "scarce_resources_concentration = []\n",
    "\n",
    "for k in K:\n",
    "    for a in J:\n",
    "        for b in J:\n",
    "            route_distance = df_distances_stations.loc[a, b]\n",
    "            for i in [\"rescue\", \"squad\"]:\n",
    "                type_distance_limit = serviceability_distances[i] / 2\n",
    "                \n",
    "                c = solver.Constraint(-solver.infinity(), route_distance + type_distance_limit)\n",
    "            \n",
    "                T_a = T[(i, a, k)]\n",
    "                T_b = T[(i, b, k)]\n",
    "\n",
    "                c.SetCoefficient(T_a, type_distance_limit)\n",
    "                c.SetCoefficient(T_b, type_distance_limit)\n",
    "\n",
    "                scarce_resources_concentration.append(c)\n",
    "\n",
    "assert len(scarce_resources_concentration) == 191844, \"The number of constraints (\" + str(len(scarce_resources_concentration)) + \") is NOT correct\""
   ]
  },
  {
   "cell_type": "markdown",
   "id": "2e0edf37",
   "metadata": {},
   "source": [
    "### 6. Station resources concentration\n",
    "\n",
    "\\begin{equation}\n",
    "    X_{i, j, k} \\leq  2, \\forall j \\in J, k \\in K, i \\in \\left \\{ 1, 2 \\right \\}\n",
    "    \\label{engine_ladder_concentration_station}\n",
    "\\end{equation}\n",
    "\n",
    "\\begin{equation}\n",
    "    X_{i, j, k} \\leq  1, \\forall j \\in J, k \\in K, i \\in \\left \\{ 3, 4 \\right \\}\n",
    "    \\label{rescue_squad_concentration_station}\n",
    "\\end{equation}"
   ]
  },
  {
   "cell_type": "code",
   "execution_count": null,
   "id": "32f8dc28",
   "metadata": {},
   "outputs": [],
   "source": [
    "station_resources_concentration_constraints = []\n",
    "\n",
    "for k in K:\n",
    "    for j in J:\n",
    "        for i in [\"engine\", \"ladder\"]:\n",
    "            c = solver.Constraint(-solver.infinity(), 2)\n",
    "            v = X[(i, j, k)]\n",
    "            c.SetCoefficient(v, 1)\n",
    "            station_resources_concentration_constraints.append(c)\n",
    "                    \n",
    "assert len(station_resources_concentration_constraints) == 876, \"The number of constraints (\" + str(len(station_resources_concentration_constraints)) + \") is NOT correct\""
   ]
  },
  {
   "cell_type": "code",
   "execution_count": null,
   "id": "a61f93c3",
   "metadata": {},
   "outputs": [],
   "source": [
    "station_resources_concentration_constraints = []\n",
    "\n",
    "for k in K:\n",
    "    for j in J:\n",
    "        for i in [\"rescue\", \"squad\"]:\n",
    "            c = solver.Constraint(-solver.infinity(), 1)\n",
    "            v = X[(i, j, k)]\n",
    "            c.SetCoefficient(v, 1)\n",
    "            station_resources_concentration_constraints.append(c)\n",
    "                    \n",
    "assert len(station_resources_concentration_constraints) == 876, \"The number of constraints (\" + str(len(station_resources_concentration_constraints)) + \") is NOT correct\""
   ]
  },
  {
   "cell_type": "markdown",
   "id": "73831d9e",
   "metadata": {},
   "source": [
    "### 7. At least two vehicle types"
   ]
  },
  {
   "cell_type": "markdown",
   "id": "0ef84b48",
   "metadata": {},
   "source": [
    "#### 7.1 Linking constrain T\n",
    "\n",
    "\\begin{equation}\n",
    "    T_{i, j, k} \\leq X_{i, j, k} \\leq c_{j}T_{i, j, k}, \\forall i \\in I, j \\in J, k \\in K\n",
    "    \\label{linking_T}\n",
    "\\end{equation}"
   ]
  },
  {
   "cell_type": "code",
   "execution_count": null,
   "id": "9ec8b9be",
   "metadata": {},
   "outputs": [],
   "source": [
    "T_lower_linking_constraints = []\n",
    "T_upper_linking_constraints = []\n",
    "\n",
    "for i in I:\n",
    "    for j in J:\n",
    "        capacity = capacities[j]\n",
    "        for k in K:\n",
    "            v_T = T[(i, j, k)]\n",
    "            v_X = X[(i, j, k)]\n",
    "\n",
    "            c_lower = solver.Constraint(-solver.infinity(), 0)\n",
    "\n",
    "            c_lower.SetCoefficient(v_T, 1)\n",
    "            c_lower.SetCoefficient(v_X, -1)\n",
    "\n",
    "            T_lower_linking_constraints.append(c_lower)\n",
    "\n",
    "            c_upper = solver.Constraint(-solver.infinity(), 0)\n",
    "\n",
    "            c_upper.SetCoefficient(v_T, -capacity)\n",
    "            c_upper.SetCoefficient(v_X, 1)\n",
    "\n",
    "            T_upper_linking_constraints.append(c_upper)\n",
    "\n",
    "assert len(T_lower_linking_constraints) == 2190, \"The number of constraints (\" + str(len(T_lower_linking_constraints)) + \") is NOT correct\"\n",
    "assert len(T_upper_linking_constraints) == 2190, \"The number of constraints (\" + str(len(T_upper_linking_constraints)) + \") is NOT correct\""
   ]
  },
  {
   "cell_type": "markdown",
   "id": "bbca3904",
   "metadata": {},
   "source": [
    "#### 7.2. Linking constraint Q\n",
    "\n",
    "\n",
    "\\begin{equation}\n",
    "    \\sum_{i \\in I} X_{i, j, k} - 1 \\leq c_{j}Q_{j, k}, \\forall j \\in J, k \\in K\n",
    "    \\label{linking_Q}\n",
    "\\end{equation}"
   ]
  },
  {
   "cell_type": "code",
   "execution_count": null,
   "id": "4a05af72",
   "metadata": {},
   "outputs": [],
   "source": [
    "Q_linking_constraints = []\n",
    "\n",
    "for j in J:\n",
    "    capacity = capacities[j]\n",
    "    for k in K:\n",
    "        c = solver.Constraint(-solver.infinity(), 1)\n",
    "        v_Q = Q[(j, k)]\n",
    "        for i in I:\n",
    "            v_X = X[(i, j, k)]\n",
    "\n",
    "            c.SetCoefficient(v_X, 1)\n",
    "            \n",
    "        c.SetCoefficient(v_Q, -capacity)\n",
    "        \n",
    "        Q_linking_constraints.append(c)\n",
    "\n",
    "assert len(Q_linking_constraints) == 438, \"The number of constraints (\" + str(len(Q_linking_constraints)) + \") is NOT correct\""
   ]
  },
  {
   "cell_type": "markdown",
   "id": "01bc0ecd",
   "metadata": {},
   "source": [
    "#### 7.3 At least two vehicle types"
   ]
  },
  {
   "cell_type": "markdown",
   "id": "ad027f7e",
   "metadata": {},
   "source": [
    "\\begin{equation}\n",
    "    \\sum_{i \\in I} T_{i, j, k} \\geq 2Q_{j, k}, \\forall j \\in J, k \\in K\n",
    "    \\label{at_least_two_vehicle_types}\n",
    "\\end{equation}"
   ]
  },
  {
   "cell_type": "code",
   "execution_count": null,
   "id": "8ab84ae0",
   "metadata": {},
   "outputs": [],
   "source": [
    "atleast_two_types_of_vehicle_constraints = []\n",
    "\n",
    "for j in J:\n",
    "    capacity = capacities[j]\n",
    "    for k in K:\n",
    "        c = solver.Constraint(0, solver.infinity())\n",
    "        v_Q = Q[(j, k)]\n",
    "        for i in I:\n",
    "            v_T = T[(i, j, k)]\n",
    "\n",
    "            c.SetCoefficient(v_T, 1)\n",
    "        c.SetCoefficient(v_Q, -2)\n",
    "        atleast_two_types_of_vehicle_constraints.append(c)\n",
    "\n",
    "assert len(atleast_two_types_of_vehicle_constraints) == 438, \"The number of constraints (\" + str(len(atleast_two_types_of_vehicle_constraints)) + \") is NOT correct\""
   ]
  },
  {
   "cell_type": "markdown",
   "id": "0cb2f656",
   "metadata": {},
   "source": [
    "### 8. Vehicles transfer\n",
    "\n",
    "\\begin{equation}\n",
    "    X_{i, a, 1} - X_{i, a, 2} = \\sum_{j \\in J} \\left ( Y_{i, a, j} - Y_{i, j, a} \\right ), \\forall i \\in I, a \\in J\n",
    "    \\label{vehicle_transfer}\n",
    "\\end{equation}"
   ]
  },
  {
   "cell_type": "code",
   "execution_count": null,
   "id": "36f7dbcf",
   "metadata": {},
   "outputs": [],
   "source": [
    "vehicles_transfer_constraints = []\n",
    "\n",
    "for i in I:\n",
    "    for a in J:\n",
    "        c = solver.Constraint(0, 0)\n",
    "\n",
    "        for j in J:\n",
    "            Y_aj = Y[(i, a, j)]\n",
    "            Y_ja = Y[(i, j, a)]\n",
    "\n",
    "            c.SetCoefficient(Y_aj, 1)\n",
    "            c.SetCoefficient(Y_ja, -1)\n",
    "        \n",
    "        X_a1 = X[(i, a, 1)]\n",
    "        X_a2 = X[(i, a, 2)]\n",
    "\n",
    "        c.SetCoefficient(X_a1, -1)\n",
    "        c.SetCoefficient(X_a2, 1)\n",
    "\n",
    "        vehicles_transfer_constraints.append(c)\n",
    "\n",
    "assert len(vehicles_transfer_constraints) == 1095, \"The number of constraints (\" + str(len(vehicles_transfer_constraints)) + \") is NOT correct\""
   ]
  },
  {
   "cell_type": "markdown",
   "id": "1013c380",
   "metadata": {},
   "source": [
    "### 9. Maximum transfer distance\n",
    "\n",
    "\\begin{equation}\n",
    "    r_{a, b}Y_{i, a, b} \\leq l_{i} Y_{i, a, b}, \\forall i \\in \\left \\{ 1, 2, 3, 4 \\right \\}, a \\in J, b \\in J\n",
    "    \\label{maximum_transfer_distance}\n",
    "\\end{equation}"
   ]
  },
  {
   "cell_type": "code",
   "execution_count": null,
   "id": "a6e1e130",
   "metadata": {},
   "outputs": [],
   "source": [
    "max_transfer_distance_constraints = []\n",
    "a_counter = -1\n",
    "\n",
    "for a in J:\n",
    "    for b in J:\n",
    "        for i in [\"engine\", \"ladder\", \"rescue\", \"squad\"]:\n",
    "        \n",
    "            route_distance = df_distances_stations.loc[a, b]\n",
    "\n",
    "            #type_distance_limit = serviceability_distances[i] if i in [\"engine\", \"ladder\"] else (serviceability_distances[i] / 2)\n",
    "            type_distance_limit = serviceability_distances[i]\n",
    "\n",
    "            c = solver.Constraint(-solver.infinity(), 0)\n",
    "            \n",
    "            v = Y[(i, a, b)]\n",
    "\n",
    "            c.SetCoefficient(v, route_distance - type_distance_limit)\n",
    "\n",
    "            max_transfer_distance_constraints.append(c)\n",
    "\n",
    "assert len(max_transfer_distance_constraints) == 191844, \"The number of constraints (\" + str(len(max_transfer_distance_constraints)) + \") is NOT correct\""
   ]
  },
  {
   "cell_type": "markdown",
   "id": "e2a7309b",
   "metadata": {},
   "source": [
    "### Objective Function"
   ]
  },
  {
   "cell_type": "markdown",
   "id": "c905e77a",
   "metadata": {},
   "source": [
    "\\begin{equation}\n",
    "    maxZ: \\sum_{k \\in K}\\sum_{i \\in I}\\sum_{j \\in J}X_{j, i, k} \\left ( \\sum_{n \\in N}s_{i, j, n} importance_{j, i, k, n} \\right )\n",
    "    \\label{objective_function}\n",
    "\\end{equation}\n",
    "\n",
    "\\begin{equation}\n",
    "    importance_{j, i, k, n} = w_{p} p^{\\varsigma}_{n} + w_{e} e^{\\varsigma}_{i, k, n} - w_{d} d^{\\varsigma}_{j, n} - v^{\\varsigma}_{i}\n",
    "    \\label{importance_factor}\n",
    "\\end{equation}\n",
    "\n",
    "\\begin{equation}\n",
    "    w_{p}=0.4 \\\\\n",
    "    w_{e}=0.1 \\\\\n",
    "    w_{d}=0.5\n",
    "    \\label{weights}\n",
    "\\end{equation}"
   ]
  },
  {
   "cell_type": "code",
   "execution_count": null,
   "id": "6d68b229",
   "metadata": {},
   "outputs": [],
   "source": [
    "from sklearn.preprocessing import MinMaxScaler\n",
    "MM_scaler = MinMaxScaler()\n",
    "distance_scaled = MM_scaler.fit_transform(distance)\n",
    "df_distance_scaled = distance.copy()\n",
    "df_distance_scaled[:] = distance_scaled\n",
    "df_distance_scaled.head()"
   ]
  },
  {
   "cell_type": "code",
   "execution_count": null,
   "id": "1075d2d2",
   "metadata": {},
   "outputs": [],
   "source": [
    "availabilities_list = np.array(list(availabilities.values())).reshape(-1, 1)\n",
    "vehicle_availabilities_scaled = MM_scaler.fit_transform(availabilities_list)\n",
    "vehicle_availabilities_scaled\n"
   ]
  },
  {
   "cell_type": "code",
   "execution_count": null,
   "id": "feaa4ce6",
   "metadata": {},
   "outputs": [],
   "source": [
    "availabilities_scaled = {'engine': 1.0, 'ladder': 0.7244898, 'hazardous': 0.0, 'squad': 0.03571429, 'rescue':0.02040816}"
   ]
  },
  {
   "cell_type": "code",
   "execution_count": null,
   "id": "c49a94ef",
   "metadata": {},
   "outputs": [],
   "source": [
    "def set_objective_function(wp, we, wd):\n",
    "    objective = solver.Objective()\n",
    "    objective.SetMaximization()\n",
    "\n",
    "\n",
    "    for k in K:\n",
    "        shift_str = 'first' if k == 1 else 'second'\n",
    "        for i in I:\n",
    "            for j in J:\n",
    "                v = X[(i, j, k)]\n",
    "                overall_importance = 0\n",
    "                \n",
    "                for n in N:\n",
    "                    #computing the coefficient\n",
    "                    area_importance = 0\n",
    "\n",
    "                    s = 1 if serviceability[i].loc[n][j] else 0\n",
    "\n",
    "                    if s == 1:  \n",
    "                        current_n = neighborhood[neighborhood['nta'] == n]\n",
    "                        column_name = f\"{i}_needed_{shift_str}_shift\"\n",
    "\n",
    "                        p = current_n['population_density'].values[0]\n",
    "                        e = current_n[column_name].values[0]\n",
    "                        d = df_distance_scaled.loc[n][j]\n",
    "                        q = availabilities_scaled[i]\n",
    "                        \n",
    "                        importance = (wp * p) + (we * e) - (wd * d) - q\n",
    "                        area_importance += importance\n",
    "\n",
    "                    overall_importance += area_importance\n",
    "                objective.SetCoefficient(v, overall_importance)\n",
    "    \n",
    "    return objective"
   ]
  },
  {
   "cell_type": "code",
   "execution_count": null,
   "id": "f68a5c48",
   "metadata": {},
   "outputs": [],
   "source": [
    "def solve_problem(wp, we, wd):\n",
    "    deployments_first_shift = pd.DataFrame(0, index=I, columns=J)\n",
    "    deployments_second_shift = pd.DataFrame(0, index=I, columns=J)\n",
    "\n",
    "    objective = set_objective_function(wp, we, wd)\n",
    "    result = solver.Solve()\n",
    "\n",
    "    if result == solver.ABNORMAL :\n",
    "        print(\"Execution finished by an error\")\n",
    "        \n",
    "    elif result == solver.FEASIBLE :\n",
    "        print(\"In the specified time limit the solver has found a feasible solution\")\n",
    "        for k in K:\n",
    "            for i in I:\n",
    "                for j in J:\n",
    "                    v = X[(i,j, k)]\n",
    "                    if v.SolutionValue()>0:\n",
    "                        print(v, v.solution_value())\n",
    "        print(\"The value for the objective function is\", objective.Value())\n",
    "            \n",
    "    elif result == solver.INFEASIBLE :\n",
    "        print(\"There is no feasible solution for the problem\")\n",
    "            \n",
    "    elif result == solver.NOT_SOLVED :\n",
    "        print(\"In the specified time limit the solver has not found any feasible solution\")\n",
    "            \n",
    "    elif result == solver.OPTIMAL :\n",
    "        print(\"In the specified time limit the solver has found a feasible solution\")\n",
    "        for k in K:\n",
    "            for i in I:\n",
    "                for j in J:\n",
    "                    v = X[(i,j,k)]\n",
    "                    if v.SolutionValue()>0:\n",
    "                        if k == 1:\n",
    "                            deployments_first_shift.loc[i, j] = v.solution_value()\n",
    "                        else:\n",
    "                            deployments_second_shift.loc[i, j] = v.solution_value()\n",
    "                        print(v, v.solution_value())\n",
    "        \n",
    "        print(\"The optimal value for the objective function is\", objective.Value())\n",
    "        \n",
    "    elif result == solver.UNBOUNDED :\n",
    "        print(\"The solution is unbounded\")\n",
    "        \n",
    "    else :\n",
    "        print(\"Unknown error code\")\n",
    "\n",
    "    return deployments_first_shift, deployments_second_shift"
   ]
  },
  {
   "cell_type": "code",
   "execution_count": null,
   "id": "17622e86",
   "metadata": {},
   "outputs": [],
   "source": [
    "wp = 0.40\n",
    "we = 0.10\n",
    "wd = 0.50\n",
    "\n",
    "deployments_first_shift, deployments_second_shift = solve_problem(wp, we, wd)\n",
    "\n",
    "deployments_first_shift.to_csv(\"dataset/results/deployments_first_\" + str(int(wp*100)) + \"p_\" + str(int(we*100)) + \"e_\" + str(int(wd*100)) + \"d.csv\")\n",
    "deployments_second_shift.to_csv(\"dataset/results/deployments_second_\" + str(int(wp*100)) + \"p_\" + str(int(we*100)) + \"e_\" + str(int(wd*100)) + \"d.csv\")"
   ]
  },
  {
   "cell_type": "code",
   "execution_count": null,
   "id": "76573cd7",
   "metadata": {},
   "outputs": [],
   "source": [
    "#results1 = pd.read_csv(\"dataset/results/deployments_first_01p_045e_045d.csv\", index_col=0)\n",
    "results2 = pd.read_csv(\"dataset/results/deployments_first_40p_10e_50d.csv\", index_col=0)\n",
    "results2"
   ]
  },
  {
   "cell_type": "code",
   "execution_count": null,
   "id": "c6dc07f1",
   "metadata": {},
   "outputs": [],
   "source": [
    "response = requests.get(\"https://gitlab.com/drvicsana/cop-proyecto-2023/-/raw/main/located_firehouses.json\")\n",
    "json_response = json.loads(response.text)\n",
    "\n",
    "map = folium.Map(location=[40.70, -73.94], zoom_start=10, width=\"50%\", tiles=\"CartoDB positron\")\n",
    "vehicle_colors = {\n",
    "    'engine': 'blue',\n",
    "    'ladder': 'red',\n",
    "    'rescue': 'green',\n",
    "    'squad': 'orange',\n",
    "    'hazardous': 'purple'\n",
    "}\n",
    "\n",
    "#Legend text\n",
    "legend_html = '''\n",
    "<div style=\"position: fixed; bottom: 50px; right: 50px; z-index:1000; font-size:14px;\">\n",
    "     <p><strong>Legend</strong></p>\n",
    "     <p><i class=\"fa fa-square fa-1x\" style=\"color:blue;\"></i> Engine</p>\n",
    "     <p><i class=\"fa fa-square fa-1x\" style=\"color:red;\"></i> Ladder</p>\n",
    "     <p><i class=\"fa fa-square fa-1x\" style=\"color:green;\"></i> Rescue</p>\n",
    "     <p><i class=\"fa fa-square fa-1x\" style=\"color:orange;\"></i> Squad</p>\n",
    "     <p><i class=\"fa fa-square fa-1x\" style=\"color:purple;\"></i> Hazardous</p>\n",
    "     <p><i class=\"fa fa-star fa-1x\" style=\"color:black;\"></i> +1 vehicle</p>\n",
    "</div>\n",
    "'''\n",
    "\n",
    "legend = folium.Element(legend_html)\n",
    "map.get_root().html.add_child(legend)\n",
    "\n",
    "#Adding markers to the map for each station\n",
    "for idx, polygon in enumerate(json_response[\"features\"]):\n",
    "    facility_address = polygon[\"properties\"][\"FacilityAddress\"]\n",
    "    coordinates = [polygon[\"geometry\"][\"coordinates\"][1], polygon[\"geometry\"][\"coordinates\"][0]]\n",
    "    \n",
    "    for vehicle_type in results2.index:\n",
    "        #Check if the station has just one unit of vehicle i\n",
    "        if results2.loc[vehicle_type, facility_address] > 0 and results2.loc[vehicle_type, facility_address]<=1:\n",
    "            color = vehicle_colors[vehicle_type]\n",
    "            marker = folium.Marker(coordinates, tooltip=f\"<b>Location</b>: {facility_address}\", icon=folium.Icon(color=color))\n",
    "            marker.add_to(map)\n",
    "            \n",
    "        #Check if the station has more than one unit of vehicle i   \n",
    "        elif results2.loc[vehicle_type, facility_address] > 1:\n",
    "            color = vehicle_colors[vehicle_type]\n",
    "            marker = folium.Marker(coordinates, tooltip=f\"<b>Location</b>: {facility_address}\", icon=folium.Icon(color=color, icon=\"star\"))\n",
    "            marker.add_to(map)\n",
    "map"
   ]
  }
 ],
 "metadata": {
  "kernelspec": {
   "display_name": "Python 3 (ipykernel)",
   "language": "python",
   "name": "python3"
  },
  "language_info": {
   "codemirror_mode": {
    "name": "ipython",
    "version": 3
   },
   "file_extension": ".py",
   "mimetype": "text/x-python",
   "name": "python",
   "nbconvert_exporter": "python",
   "pygments_lexer": "ipython3",
   "version": "3.9.13"
  }
 },
 "nbformat": 4,
 "nbformat_minor": 5
}
