{
 "cells": [
  {
   "cell_type": "markdown",
   "metadata": {},
   "source": [
    "## Preliminary operations"
   ]
  },
  {
   "cell_type": "code",
   "execution_count": 1,
   "metadata": {},
   "outputs": [],
   "source": [
    "# import main libraries\n",
    "import json\n",
    "import requests\n",
    "import pandas as pd\n",
    "import numpy as np"
   ]
  },
  {
   "cell_type": "code",
   "execution_count": 2,
   "metadata": {},
   "outputs": [],
   "source": [
    "# import all datasets\n",
    "response = requests.get(\"https://gitlab.com/drvicsana/cop-proyecto-2023/-/raw/main/project_data/incidentes2019.json\")\n",
    "incidents_db = json.loads(response.text)\n",
    "\n",
    "response = requests.get(\"https://gitlab.com/drvicsana/cop-proyecto-2023/-/raw/main/project_data/distancias_estaciones_barrios.json\")\n",
    "distances_stations_ntas_db = json.loads(response.text)\n",
    "\n",
    "response = requests.get(\"https://gitlab.com/drvicsana/cop-proyecto-2023/-/raw/main/project_data/distancias_estaciones.json\")\n",
    "distances_stations_db = json.loads(response.text)\n",
    "\n",
    "response = requests.get(\"https://gitlab.com/drvicsana/cop-proyecto-2023/-/raw/main/project_data/barrios.json\")\n",
    "ntas_db = json.loads(response.text)\n",
    "\n",
    "response = requests.get(\"https://gitlab.com/drvicsana/cop-proyecto-2023/-/raw/main/project_data/estaciones.json\")\n",
    "stations_db = json.loads(response.text)"
   ]
  },
  {
   "cell_type": "code",
   "execution_count": 3,
   "metadata": {},
   "outputs": [],
   "source": [
    "# get a dataframe with the distances between stations and neighborhoods (ntas)\n",
    "df_distance_stations_ntas = pd.read_csv(\"dataset/distance_stations_neighborhoods.csv\", index_col=\"Unnamed: 0\")\n",
    "# get a dataframe with the distances between stations\n",
    "df_distance_stations = pd.DataFrame(distances_stations_db)\n",
    "# get number of ntas\n",
    "n_nta = len(df_distance_stations_ntas)"
   ]
  },
  {
   "cell_type": "code",
   "execution_count": 4,
   "metadata": {},
   "outputs": [],
   "source": [
    "# define a list with vehicle types\n",
    "vehicle_types = [\"engine\", \"ladder\", \"rescue\", \"squad\", \"hazardous\"]\n",
    "# define a dictionary with vehicle type quantities\n",
    "vehicle_quantities = {\n",
    "    \"engine\": 197, \n",
    "    \"ladder\": 143, \n",
    "    \"rescue\": 5, \n",
    "    \"squad\": 8, \n",
    "    \"hazardous\": 1\n",
    "}"
   ]
  },
  {
   "cell_type": "code",
   "execution_count": 5,
   "metadata": {},
   "outputs": [],
   "source": [
    "# create a dictionary to store the neighborhoods serviceability dataframes\n",
    "dfs_nta_serviceability = {}\n",
    "# create a dictionary to store the maximum servicability distance for each type of vehicle\n",
    "serviceability_distances ={}\n",
    "\n",
    "# iterate all vehicle types\n",
    "for vehicle_type in vehicle_types:\n",
    "    # create datframes of the same shape of the nta-station distances \n",
    "    dfs_nta_serviceability[vehicle_type] = df_distance_stations_ntas.copy()\n",
    "    # set all the values in the serviceability dataframe to an initial value equal to True\n",
    "    dfs_nta_serviceability[vehicle_type].loc[:] = True\n",
    "\n",
    "    # set the initial serviceability distance to an initial value equal to 0\n",
    "    serviceability_distances[vehicle_type] = 0"
   ]
  },
  {
   "cell_type": "markdown",
   "metadata": {},
   "source": [
    "## Function *set_serviceability*"
   ]
  },
  {
   "cell_type": "code",
   "execution_count": 6,
   "metadata": {},
   "outputs": [],
   "source": [
    "# define a function to set the serviceability of each nta from each station\n",
    "def set_serviceability(distance_threshold, df_nta_serviceability):\n",
    "    # interate nta-station distances dataframe\n",
    "    for (nta, distances) in df_distance_stations_ntas.iterrows():\n",
    "        # iterate stations' distances from the neighborhood\n",
    "        for station, distance_st_nta in distances.items():\n",
    "            # check if the distance between the nta and the station is greater then the threshold\n",
    "            if distance_st_nta > distance_threshold:\n",
    "                # set the neighborhood as unservable by that station\n",
    "                df_nta_serviceability.loc[nta, station] = False\n",
    "    \n",
    "    # return the serviceability table ready\n",
    "    return df_nta_serviceability"
   ]
  },
  {
   "cell_type": "markdown",
   "metadata": {},
   "source": [
    "## Set the serviceability distance for each vehicle type"
   ]
  },
  {
   "cell_type": "code",
   "execution_count": 7,
   "metadata": {},
   "outputs": [
    {
     "name": "stdout",
     "output_type": "stream",
     "text": [
      "The maximum threshold to cover 2 neighborhoods is: 800.24\n",
      "The maximum threshold to cover 2 neighborhoods is: 800.24\n",
      "The maximum threshold to cover 40 neighborhoods is: 2675.74\n",
      "The maximum threshold to cover 25 neighborhoods is: 2339.26\n",
      "The maximum threshold to cover 196 neighborhoods is: 4537.84\n"
     ]
    }
   ],
   "source": [
    "# get the serviceability distance for each type\n",
    "for vehicle_type in vehicle_types:\n",
    "    # get vehicle type quantity\n",
    "    vehicle_quantity = vehicle_quantities[vehicle_type]\n",
    "    # Set the number of neighborhoods you want to cover\n",
    "    num_neighborhoods_to_cover = 2 if vehicle_quantity > n_nta else round((n_nta / vehicle_quantity) + 1)\n",
    "    # Initialize an empty dictionary to store minimum thresholds for each station\n",
    "    min_thresholds = {}\n",
    "\n",
    "    # Iterate over each station in the DataFrame\n",
    "    for station in df_distance_stations_ntas.columns:\n",
    "        # Sort the neighborhoods by distance to the current station\n",
    "        sorted_neighborhoods = df_distance_stations_ntas.sort_values(by=station)\n",
    "        # Select the top nearest N neighborhoods to cover, where N is num_neighborhoods_to_cover\n",
    "        selected_neighborhoods = sorted_neighborhoods.index[:num_neighborhoods_to_cover]\n",
    "        # Calculate the maximum distance threshold for the selected neighborhoods\n",
    "        max_threshold = sorted_neighborhoods.loc[selected_neighborhoods, station].max()\n",
    "        # Store the result in the dictionary\n",
    "        min_thresholds[station] = max_threshold\n",
    "\n",
    "    # Find the maximum threshold among all stations\n",
    "    max_threshold = max(min_thresholds.values())\n",
    "    print(f\"The maximum threshold to cover {num_neighborhoods_to_cover} neighborhoods is: {max_threshold}\")\n",
    "\n",
    "    # get a new copy of the original dataframe\n",
    "    ntas_serviceability = dfs_nta_serviceability[vehicle_type].copy()\n",
    "    # set the serviceability based on the last valid threshold (actual + 1)\n",
    "    ntas_serviceability = set_serviceability(max_threshold, ntas_serviceability).copy()\n",
    "    # store the serviceability table\n",
    "    dfs_nta_serviceability[vehicle_type] = ntas_serviceability\n"
   ]
  },
  {
   "cell_type": "markdown",
   "metadata": {},
   "source": [
    "## Export data"
   ]
  },
  {
   "cell_type": "code",
   "execution_count": 8,
   "metadata": {},
   "outputs": [],
   "source": [
    "# save the serviceability tables\n",
    "for df in dfs_nta_serviceability:\n",
    "    dfs_nta_serviceability[df].to_csv(\"dataset/serviceability/\" + df + \"_ntas_serviceability.csv\")"
   ]
  }
 ],
 "metadata": {
  "kernelspec": {
   "display_name": "base",
   "language": "python",
   "name": "python3"
  },
  "language_info": {
   "codemirror_mode": {
    "name": "ipython",
    "version": 3
   },
   "file_extension": ".py",
   "mimetype": "text/x-python",
   "name": "python",
   "nbconvert_exporter": "python",
   "pygments_lexer": "ipython3",
   "version": "3.11.5"
  }
 },
 "nbformat": 4,
 "nbformat_minor": 2
}
