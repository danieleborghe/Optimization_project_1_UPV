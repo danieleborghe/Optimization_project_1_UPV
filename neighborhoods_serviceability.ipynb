{
 "cells": [
  {
   "cell_type": "code",
   "execution_count": 1,
   "metadata": {},
   "outputs": [],
   "source": [
    "# import main libraries\n",
    "import json\n",
    "import requests\n",
    "import pandas as pd\n",
    "import numpy as np"
   ]
  },
  {
   "cell_type": "code",
   "execution_count": 2,
   "metadata": {},
   "outputs": [],
   "source": [
    "# import all datasets\n",
    "response = requests.get(\"https://gitlab.com/drvicsana/cop-proyecto-2023/-/raw/main/project_data/incidentes2019.json\")\n",
    "incidents_db = json.loads(response.text)\n",
    "\n",
    "response = requests.get(\"https://gitlab.com/drvicsana/cop-proyecto-2023/-/raw/main/project_data/distancias_estaciones_barrios.json\")\n",
    "distances_stations_ntas_db = json.loads(response.text)\n",
    "\n",
    "response = requests.get(\"https://gitlab.com/drvicsana/cop-proyecto-2023/-/raw/main/project_data/distancias_estaciones.json\")\n",
    "distances_stations_db = json.loads(response.text)\n",
    "\n",
    "response = requests.get(\"https://gitlab.com/drvicsana/cop-proyecto-2023/-/raw/main/project_data/barrios.json\")\n",
    "ntas_db = json.loads(response.text)\n",
    "\n",
    "response = requests.get(\"https://gitlab.com/drvicsana/cop-proyecto-2023/-/raw/main/project_data/estaciones.json\")\n",
    "stations_db = json.loads(response.text)"
   ]
  },
  {
   "cell_type": "code",
   "execution_count": 8,
   "metadata": {},
   "outputs": [],
   "source": [
    "df_ntas = pd.read_csv(\"dataset/neighborhoods.csv\", index_col=\"nta\")\n",
    "df_distance_stations_ntas = pd.read_csv(\"dataset/df_distance_stations_neighborhoods.csv\", index_col=\"Unnamed: 0\")"
   ]
  },
  {
   "cell_type": "code",
   "execution_count": 10,
   "metadata": {},
   "outputs": [],
   "source": [
    "vehicle_types = [\"engine\", \"ladder\", \"rescue\", \"squad\", \"hazardous\"]"
   ]
  },
  {
   "cell_type": "code",
   "execution_count": 11,
   "metadata": {},
   "outputs": [],
   "source": [
    "# create dictionaries for incident average durations for both shifts\n",
    "vehicle_incident_average_duration_first_shift = {}\n",
    "vehicle_incident_average_duration_second_shift = {}\n",
    "\n",
    "# iterate all vehicle types\n",
    "for vehicle_type in vehicle_types:\n",
    "    # define index names\n",
    "    incident_average_duration_first_shift = vehicle_type + \"_incident_average_duration_first_shift\"\n",
    "    incident_average_duration_second_shift = vehicle_type + \"_incident_average_duration_second_shift\"\n",
    "\n",
    "    # get just the neighborhood where some incidents happened (where we have an average incident duration)\n",
    "    non_zero_first_shift = df_ntas[df_ntas[incident_average_duration_first_shift] != 0]\n",
    "    # do the mean of the incident durations for that vehicle types (between all neighborhoods)\n",
    "    vehicle_incident_average_duration_first_shift[vehicle_type] = np.mean(non_zero_first_shift[incident_average_duration_first_shift])\n",
    "\n",
    "    non_zero_second_shift = df_ntas[df_ntas[incident_average_duration_second_shift] != 0]\n",
    "    vehicle_incident_average_duration_second_shift[vehicle_type] = np.mean(non_zero_second_shift[incident_average_duration_second_shift])"
   ]
  },
  {
   "cell_type": "code",
   "execution_count": 12,
   "metadata": {},
   "outputs": [
    {
     "data": {
      "text/plain": [
       "{'engine': 1985.5373439159384,\n",
       " 'ladder': 1906.7642481828568,\n",
       " 'rescue': 2271.5054389954926,\n",
       " 'squad': 2187.5583007060777,\n",
       " 'hazardous': 1611.7435902715163}"
      ]
     },
     "execution_count": 12,
     "metadata": {},
     "output_type": "execute_result"
    }
   ],
   "source": [
    "# average incident durations in the first shift\n",
    "vehicle_incident_average_duration_first_shift"
   ]
  },
  {
   "cell_type": "code",
   "execution_count": 13,
   "metadata": {},
   "outputs": [
    {
     "data": {
      "text/plain": [
       "{'engine': 1647.5697278471393,\n",
       " 'ladder': 1628.2509015419084,\n",
       " 'rescue': 1699.3350584143634,\n",
       " 'squad': 1610.8915117386066,\n",
       " 'hazardous': 1612.058942803136}"
      ]
     },
     "execution_count": 13,
     "metadata": {},
     "output_type": "execute_result"
    }
   ],
   "source": [
    "# average incident durations in the second shift\n",
    "vehicle_incident_average_duration_second_shift"
   ]
  },
  {
   "cell_type": "code",
   "execution_count": 15,
   "metadata": {},
   "outputs": [],
   "source": [
    "# create two dictionaries (one for each shift) for the serviceability o the stations\n",
    "df_station_serviceability_first_shift = {}\n",
    "df_station_serviceability_second_shift = {}\n",
    "\n",
    "# iterate all vehicle types\n",
    "for vehicle_type in vehicle_types:\n",
    "    # create datframes of the same shape of the nta-stations distances, all false \n",
    "    df_station_serviceability_first_shift[vehicle_type] = df_distance_stations_ntas.copy()\n",
    "    df_station_serviceability_first_shift[vehicle_type].loc[:] = False\n",
    "    df_station_serviceability_second_shift[vehicle_type] = df_distance_stations_ntas.copy()\n",
    "    df_station_serviceability_second_shift[vehicle_type].loc[:] = False"
   ]
  },
  {
   "cell_type": "code",
   "execution_count": 17,
   "metadata": {},
   "outputs": [],
   "source": [
    "# iterate all vehicle types\n",
    "for vehicle_type in vehicle_types:\n",
    "    # get the right dataframe for the vehicle\n",
    "    vehicle_serviceability_first_shift = df_station_serviceability_first_shift[vehicle_type]\n",
    "    vehicle_serviceability_second_shift = df_station_serviceability_second_shift[vehicle_type]\n",
    "    \n",
    "    # interate together the neigborhoods on nta-stations distances dataframe and neighborhoods dataframe\n",
    "    for (nta, distances), (nta, nta_data) in zip(df_distance_stations_ntas.iterrows(), df_ntas.iterrows()):\n",
    "        # iterate stations' distances from the neighborhood\n",
    "        for station, distance_st_nta in distances.items():\n",
    "            # check if we have an average incident duration for that neighborhood\n",
    "            if nta_data[vehicle_type + \"_incident_average_duration_first_shift\"] > 0:\n",
    "                # check if the distance between the nta and the station is less then half the average incident duration for that neighborhood\n",
    "                if distance_st_nta < (nta_data[vehicle_type + \"_incident_average_duration_first_shift\"] / 2):\n",
    "                    # set the neighborhood as servable by that station\n",
    "                    vehicle_serviceability_first_shift.loc[nta, station] = True\n",
    "            else:\n",
    "                # check if the distance between the nta and the station is less then half the average incident duration for all neighborhoods\n",
    "                if distance_st_nta < vehicle_incident_average_duration_first_shift[vehicle_type] / 2:\n",
    "                    # set the neighborhood as servable by that station\n",
    "                    vehicle_serviceability_first_shift.loc[nta, station] = True\n",
    "\n",
    "            # do the same operations for the second shift\n",
    "            if nta_data[vehicle_type + \"_incident_average_duration_second_shift\"] > 0:\n",
    "                if distance_st_nta < nta_data[vehicle_type + \"_incident_average_duration_second_shift\"] / 2:\n",
    "                    vehicle_serviceability_second_shift.loc[nta, station] = True\n",
    "            else:\n",
    "                if distance_st_nta < vehicle_incident_average_duration_second_shift[vehicle_type] / 2:\n",
    "                    vehicle_serviceability_second_shift.loc[nta, station] = True"
   ]
  },
  {
   "cell_type": "code",
   "execution_count": 21,
   "metadata": {},
   "outputs": [],
   "source": [
    "for df in df_station_serviceability_first_shift:\n",
    "    df_station_serviceability_first_shift[df].to_csv(\"dataset/serviceability/first_shift/\" + df + \".csv\")\n",
    "\n",
    "for df in df_station_serviceability_second_shift:\n",
    "    df_station_serviceability_second_shift[df].to_csv(\"dataset/serviceability/second_shift/\" + df + \".csv\")"
   ]
  },
  {
   "cell_type": "code",
   "execution_count": null,
   "metadata": {},
   "outputs": [],
   "source": []
  }
 ],
 "metadata": {
  "kernelspec": {
   "display_name": "base",
   "language": "python",
   "name": "python3"
  },
  "language_info": {
   "codemirror_mode": {
    "name": "ipython",
    "version": 3
   },
   "file_extension": ".py",
   "mimetype": "text/x-python",
   "name": "python",
   "nbconvert_exporter": "python",
   "pygments_lexer": "ipython3",
   "version": "3.11.5"
  }
 },
 "nbformat": 4,
 "nbformat_minor": 2
}
